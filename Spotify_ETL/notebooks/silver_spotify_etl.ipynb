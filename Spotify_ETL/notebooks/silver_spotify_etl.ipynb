{
 "cells": [
  {
   "cell_type": "code",
   "execution_count": 0,
   "metadata": {
    "application/vnd.databricks.v1+cell": {
     "cellMetadata": {
      "byteLimit": 2048000,
      "implicitDf": true,
      "rowLimit": 10000
     },
     "inputWidgets": {},
     "nuid": "d14badbc-29bf-4071-8696-39ea515d110a",
     "showTitle": false,
     "tableResultSettingsMap": {},
     "title": ""
    }
   },
   "outputs": [],
   "source": [
    "%sql\n",
    "USE CATALOG spotify_etl;\n",
    "USE SCHEMA silver"
   ]
  },
  {
   "cell_type": "code",
   "execution_count": 0,
   "metadata": {
    "application/vnd.databricks.v1+cell": {
     "cellMetadata": {
      "byteLimit": 2048000,
      "implicitDf": true,
      "rowLimit": 10000
     },
     "inputWidgets": {},
     "nuid": "2671da13-e6e1-4ef7-bed4-17a626925ee1",
     "showTitle": false,
     "tableResultSettingsMap": {},
     "title": ""
    }
   },
   "outputs": [],
   "source": [
    "%sql\n",
    "CREATE VOLUME IF NOT EXISTS spotify_etl.silver.spotify_tracks_cleaned;"
   ]
  },
  {
   "cell_type": "code",
   "execution_count": 0,
   "metadata": {
    "application/vnd.databricks.v1+cell": {
     "cellMetadata": {
      "byteLimit": 2048000,
      "rowLimit": 10000
     },
     "inputWidgets": {},
     "nuid": "10e82e37-6bc8-489e-b7b1-c0b02f373fb3",
     "showTitle": false,
     "tableResultSettingsMap": {},
     "title": ""
    }
   },
   "outputs": [],
   "source": [
    "from pyspark.sql.functions import col, when, round, explode, split\n",
    "\n",
    "bronze_path = \"/Volumes/spotify_etl/bronze/spotify/tracks_info\"\n",
    "\n",
    "#limpeza\n",
    "df_silver = (\n",
    "    spark.read.format(\"delta\").load(bronze_path) \\\n",
    "    # verificar se há Ids duplicados\n",
    "    .dropDuplicates([\"id\"])\\\n",
    "    #excluir a coluna _c0\n",
    "    .drop(\"_C0\")\n",
    " )"
   ]
  },
  {
   "cell_type": "code",
   "execution_count": 0,
   "metadata": {
    "application/vnd.databricks.v1+cell": {
     "cellMetadata": {
      "byteLimit": 2048000,
      "rowLimit": 10000
     },
     "inputWidgets": {},
     "nuid": "e52b0e44-ba74-44d7-a3b4-f61aacbdb92f",
     "showTitle": false,
     "tableResultSettingsMap": {},
     "title": ""
    }
   },
   "outputs": [
    {
     "output_type": "display_data",
     "data": {
      "text/html": [
       "<style scoped>\n",
       "  .table-result-container {\n",
       "    max-height: 300px;\n",
       "    overflow: auto;\n",
       "  }\n",
       "  table, th, td {\n",
       "    border: 1px solid black;\n",
       "    border-collapse: collapse;\n",
       "  }\n",
       "  th, td {\n",
       "    padding: 5px;\n",
       "  }\n",
       "  th {\n",
       "    text-align: left;\n",
       "  }\n",
       "</style><div class='table-result-container'><table class='table-result'><thead style='background-color: white'><tr><th>id</th><th>artist_names</th><th>name</th><th>genres</th><th>acousticness</th><th>danceability</th><th>duration_ms</th><th>energy</th><th>instrumentalness</th><th>key</th><th>liveness</th><th>loudness</th><th>mode</th><th>speechiness</th><th>tempo</th><th>time_signature</th><th>valence</th><th>artists_ids</th><th>duration_min</th><th>key_note</th></tr></thead><tbody><tr><td>spotify:track:2eSnW4d3A4SyEVhVPmBffa</td><td>Anitta, Becky G</td><td>Banana</td><td>latin pop,pop nacional,pagode baiano,latin viral pop,rap latina,reggaeton,pop,funk pop,urbano latino,trap latino,funk rj</td><td>0.0195</td><td>0.752</td><td>195619.0</td><td>0.681</td><td>0.0</td><td>11</td><td>0.0353</td><td>-6.684</td><td>0</td><td>0.299</td><td>73.233</td><td>4</td><td>0.648</td><td>7FNnA9vBm6EKceENgCGRMb,4obzFoKoKRHIphyHzJ35G3</td><td>3.26</td><td>B</td></tr><tr><td>spotify:track:2OUffBn30YvuPbZ0SmBgNs</td><td>LUDMILLA</td><td>Jogando sujo</td><td>funk carioca,pop nacional,pagode baiano,funk pop,funk rj</td><td>0.111</td><td>0.904</td><td>167695.0</td><td>0.75</td><td>0.0</td><td>9</td><td>0.127</td><td>-3.823</td><td>0</td><td>0.0584</td><td>128.023</td><td>4</td><td>0.79</td><td>3CDoRporvSjdzTrm99a3gi</td><td>2.79</td><td>A</td></tr><tr><td>spotify:track:4BLyDt62gonjl7b2k41d6Y</td><td>Zé Neto & Cristiano</td><td>Bebida Na Ferida - Acústico</td><td>agronejo,sertanejo universitario,sertanejo,arrocha</td><td>0.503</td><td>0.658</td><td>165291.0</td><td>0.606</td><td>0.0</td><td>1</td><td>0.17</td><td>-6.089</td><td>1</td><td>0.0376</td><td>125.997</td><td>4</td><td>0.426</td><td>487N2T9nIPEHrlTZLL3SQs</td><td>2.75</td><td>C#</td></tr><tr><td>spotify:track:301UKq8uNAv7Zj7MQkQWyd</td><td>MC Rick, Mc Leozin, Dj Caio Vieira</td><td>Terminei Com A Ex</td><td>funk bh,funk carioca,funk mtg</td><td>0.443</td><td>0.932</td><td>110769.0</td><td>0.472</td><td>0.0</td><td>5</td><td>0.0916</td><td>-7.408</td><td>0</td><td>0.328</td><td>129.939</td><td>4</td><td>0.893</td><td>1mvpEXClANunyiHFtAXCxt,6mKwmTMzDrye9elc8JWiw3,4Kv35Xnw1ODjO2nIHLhdBY</td><td>1.85</td><td>F</td></tr><tr><td>spotify:track:1ELsaYdj2NlxLvkx9g24xZ</td><td>Guilherme & Benuto, Hugo & Guilherme</td><td>Haja Colírio (feat. Hugo & Guilherme) - Ao Vivo</td><td>agronejo,arrocha,sertanejo universitario,sertanejo pop,sertanejo</td><td>0.59</td><td>0.714</td><td>173367.0</td><td>0.748</td><td>0.0</td><td>11</td><td>0.626</td><td>-4.605</td><td>1</td><td>0.0679</td><td>105.031</td><td>4</td><td>0.698</td><td>6m6e7D2TnV0aYMllFFwMxu,1LIuN7ov1IBQDdLsU83ojl</td><td>2.89</td><td>B</td></tr></tbody></table></div>"
      ]
     },
     "metadata": {
      "application/vnd.databricks.v1+output": {
       "addedWidgets": {},
       "aggData": [],
       "aggError": "",
       "aggOverflow": false,
       "aggSchema": [],
       "aggSeriesLimitReached": false,
       "aggType": "",
       "arguments": {},
       "columnCustomDisplayInfos": {},
       "data": [
        [
         "spotify:track:2eSnW4d3A4SyEVhVPmBffa",
         "Anitta, Becky G",
         "Banana",
         "latin pop,pop nacional,pagode baiano,latin viral pop,rap latina,reggaeton,pop,funk pop,urbano latino,trap latino,funk rj",
         0.0195,
         0.752,
         195619.0,
         0.681,
         0.0,
         11,
         0.0353,
         -6.684,
         0,
         0.299,
         73.233,
         4,
         0.648,
         "7FNnA9vBm6EKceENgCGRMb,4obzFoKoKRHIphyHzJ35G3",
         3.26,
         "B"
        ],
        [
         "spotify:track:2OUffBn30YvuPbZ0SmBgNs",
         "LUDMILLA",
         "Jogando sujo",
         "funk carioca,pop nacional,pagode baiano,funk pop,funk rj",
         0.111,
         0.904,
         167695.0,
         0.75,
         0.0,
         9,
         0.127,
         -3.823,
         0,
         0.0584,
         128.023,
         4,
         0.79,
         "3CDoRporvSjdzTrm99a3gi",
         2.79,
         "A"
        ],
        [
         "spotify:track:4BLyDt62gonjl7b2k41d6Y",
         "Zé Neto & Cristiano",
         "Bebida Na Ferida - Acústico",
         "agronejo,sertanejo universitario,sertanejo,arrocha",
         0.503,
         0.658,
         165291.0,
         0.606,
         0.0,
         1,
         0.17,
         -6.089,
         1,
         0.0376,
         125.997,
         4,
         0.426,
         "487N2T9nIPEHrlTZLL3SQs",
         2.75,
         "C#"
        ],
        [
         "spotify:track:301UKq8uNAv7Zj7MQkQWyd",
         "MC Rick, Mc Leozin, Dj Caio Vieira",
         "Terminei Com A Ex",
         "funk bh,funk carioca,funk mtg",
         0.443,
         0.932,
         110769.0,
         0.472,
         0.0,
         5,
         0.0916,
         -7.408,
         0,
         0.328,
         129.939,
         4,
         0.893,
         "1mvpEXClANunyiHFtAXCxt,6mKwmTMzDrye9elc8JWiw3,4Kv35Xnw1ODjO2nIHLhdBY",
         1.85,
         "F"
        ],
        [
         "spotify:track:1ELsaYdj2NlxLvkx9g24xZ",
         "Guilherme & Benuto, Hugo & Guilherme",
         "Haja Colírio (feat. Hugo & Guilherme) - Ao Vivo",
         "agronejo,arrocha,sertanejo universitario,sertanejo pop,sertanejo",
         0.59,
         0.714,
         173367.0,
         0.748,
         0.0,
         11,
         0.626,
         -4.605,
         1,
         0.0679,
         105.031,
         4,
         0.698,
         "6m6e7D2TnV0aYMllFFwMxu,1LIuN7ov1IBQDdLsU83ojl",
         2.89,
         "B"
        ]
       ],
       "datasetInfos": [],
       "dbfsResultPath": null,
       "isJsonSchema": true,
       "metadata": {},
       "overflow": false,
       "plotOptions": {
        "customPlotOptions": {},
        "displayType": "table",
        "pivotAggregation": null,
        "pivotColumns": null,
        "xColumns": null,
        "yColumns": null
       },
       "removedWidgets": [],
       "schema": [
        {
         "metadata": "{}",
         "name": "id",
         "type": "\"string\""
        },
        {
         "metadata": "{}",
         "name": "artist_names",
         "type": "\"string\""
        },
        {
         "metadata": "{}",
         "name": "name",
         "type": "\"string\""
        },
        {
         "metadata": "{}",
         "name": "genres",
         "type": "\"string\""
        },
        {
         "metadata": "{}",
         "name": "acousticness",
         "type": "\"double\""
        },
        {
         "metadata": "{}",
         "name": "danceability",
         "type": "\"double\""
        },
        {
         "metadata": "{}",
         "name": "duration_ms",
         "type": "\"double\""
        },
        {
         "metadata": "{}",
         "name": "energy",
         "type": "\"double\""
        },
        {
         "metadata": "{}",
         "name": "instrumentalness",
         "type": "\"double\""
        },
        {
         "metadata": "{}",
         "name": "key",
         "type": "\"integer\""
        },
        {
         "metadata": "{}",
         "name": "liveness",
         "type": "\"double\""
        },
        {
         "metadata": "{}",
         "name": "loudness",
         "type": "\"double\""
        },
        {
         "metadata": "{}",
         "name": "mode",
         "type": "\"integer\""
        },
        {
         "metadata": "{}",
         "name": "speechiness",
         "type": "\"double\""
        },
        {
         "metadata": "{}",
         "name": "tempo",
         "type": "\"double\""
        },
        {
         "metadata": "{}",
         "name": "time_signature",
         "type": "\"integer\""
        },
        {
         "metadata": "{}",
         "name": "valence",
         "type": "\"double\""
        },
        {
         "metadata": "{}",
         "name": "artists_ids",
         "type": "\"string\""
        },
        {
         "metadata": "{}",
         "name": "duration_min",
         "type": "\"double\""
        },
        {
         "metadata": "{}",
         "name": "key_note",
         "type": "\"string\""
        }
       ],
       "type": "table"
      }
     },
     "output_type": "display_data"
    }
   ],
   "source": [
    "#Transformação\n",
    "df_silver = df_silver \\\n",
    "    .withColumn(\"duration_min\", round(col(\"duration_ms\")/60000, 2))\\\n",
    "    .withColumn(\"key_note\", when(col(\"key\") == 0, \"C\")\\\n",
    "                .when(col(\"key\") == 1, \"C#\")\\\n",
    "                .when(col(\"key\") == 2, \"D\")\\\n",
    "                .when(col(\"key\") == 3, \"D#\")\\\n",
    "                .when(col(\"key\") == 4, \"E\")\\\n",
    "                .when(col(\"key\") == 5, \"F\")\\\n",
    "                .when(col(\"key\") == 6, \"F#\")\\\n",
    "                .when(col(\"key\") == 7, \"G\")\\\n",
    "                .when(col(\"key\") == 8, \"G#\")\\\n",
    "                .when(col(\"key\") == 9, \"A\")\\\n",
    "                .when(col(\"key\") == 10, \"A#\")\\\n",
    "                .when(col(\"key\") == 11, \"B\")\\\n",
    "                .otherwise(\"Unknown\"))\n",
    "df_silver.limit(5).display()"
   ]
  },
  {
   "cell_type": "code",
   "execution_count": 0,
   "metadata": {
    "application/vnd.databricks.v1+cell": {
     "cellMetadata": {
      "byteLimit": 2048000,
      "rowLimit": 10000
     },
     "inputWidgets": {},
     "nuid": "c21797bf-9f93-4a1e-9f3a-4236c12aa461",
     "showTitle": false,
     "tableResultSettingsMap": {},
     "title": ""
    }
   },
   "outputs": [],
   "source": [
    "# Enriquecimento\n",
    "df_silver = df_silver \\\n",
    "    .withColumn(\"modo\", when(col(\"mode\") == 0, \"menor\").otherwise(\"maior\")) \\\n",
    "    .withColumn(\"sentimento\", when(col(\"valence\") > 0.66, \"feliz\") \\\n",
    "                .when(col(\"valence\") < 0.33, \"triste\")\\\n",
    "                .otherwise(\"neutra\"))\\\n",
    "    .withColumn(\"is_instrumental\", col(\"instrumentalness\") > 0.88)\\\n",
    "    .withColumn(\"is_energy\", col(\"energy\") > 0.88)\\\n",
    "    .withColumn(\"is_acoustic\", col(\"acousticness\") > 0.88)\n",
    "\n",
    "\n",
    "silver_path = \"spotify_etl.silver.spotify_tracks_cleaned\"\n",
    "df_silver.write.format(\"delta\") \\\n",
    "    .mode(\"overwrite\") \\\n",
    "    .option(\"overwriteSchema\", \"true\") \\\n",
    "    .saveAsTable(silver_path)\n"
   ]
  },
  {
   "cell_type": "code",
   "execution_count": 0,
   "metadata": {
    "application/vnd.databricks.v1+cell": {
     "cellMetadata": {
      "byteLimit": 2048000,
      "rowLimit": 10000
     },
     "inputWidgets": {},
     "nuid": "a13a53fd-a720-47a6-aaf1-6055065c2699",
     "showTitle": false,
     "tableResultSettingsMap": {},
     "title": ""
    }
   },
   "outputs": [],
   "source": [
    "df_silver.write.format(\"delta\").mode(\"overwrite\").save(\"/Volumes/spotify_etl/silver/spotify_tracks_cleaned\")\n",
    "\n",
    "df_songs = spark.read.format(\"delta\").load(\"/Volumes/spotify_etl/silver/spotify_tracks_cleaned\")"
   ]
  },
  {
   "cell_type": "code",
   "execution_count": 0,
   "metadata": {
    "application/vnd.databricks.v1+cell": {
     "cellMetadata": {
      "byteLimit": 2048000,
      "implicitDf": true,
      "rowLimit": 10000
     },
     "inputWidgets": {},
     "nuid": "80f55744-ebdf-4985-a52a-d7fbf2f17171",
     "showTitle": false,
     "tableResultSettingsMap": {},
     "title": ""
    }
   },
   "outputs": [],
   "source": [
    "# subtabela de generos\n",
    "df_genres = df_songs.select(\"id\", \"name\", \"duration_min\", explode(split(\"genres\", \",\")).alias(\"genre\"))\n",
    "\n",
    "df_genres.write.format(\"delta\") \\\n",
    "    .mode(\"overwrite\") \\\n",
    "    .option(\"overwriteSchema\", \"true\") \\\n",
    "    .saveAsTable(\"spotify_etl.silver.genre\")"
   ]
  },
  {
   "cell_type": "code",
   "execution_count": 0,
   "metadata": {
    "application/vnd.databricks.v1+cell": {
     "cellMetadata": {
      "byteLimit": 2048000,
      "rowLimit": 10000
     },
     "inputWidgets": {},
     "nuid": "3f74abb6-c8a6-4e88-97f6-5d35d1dabe4f",
     "showTitle": false,
     "tableResultSettingsMap": {},
     "title": ""
    }
   },
   "outputs": [],
   "source": [
    "# subtabela de musica acustica\n",
    "\n",
    "df_acoustic_info = df_silver.filter(col(\"is_acoustic\") == True) \\\n",
    "  .select(\"id\", \"artist_names\", \"name\", \"is_acoustic\")\n",
    "\n",
    "df_acoustic_info.write.format(\"delta\") \\\n",
    "    .mode(\"overwrite\") \\\n",
    "    .option(\"overwriteSchema\", \"true\") \\\n",
    "    .saveAsTable(\"spotify_etl.silver.acoustic_tracks_info\")"
   ]
  },
  {
   "cell_type": "code",
   "execution_count": 0,
   "metadata": {
    "application/vnd.databricks.v1+cell": {
     "cellMetadata": {
      "byteLimit": 2048000,
      "rowLimit": 10000
     },
     "inputWidgets": {},
     "nuid": "0e4a251e-a2cb-4248-8cfb-9951ffdc76dc",
     "showTitle": false,
     "tableResultSettingsMap": {},
     "title": ""
    }
   },
   "outputs": [],
   "source": [
    "# subtabela de musica instrumental\n",
    "\n",
    "df_instrumental_info = df_silver.filter(col(\"is_instrumental\") == True) \\\n",
    "    .select(\"id\", \"artist_names\", \"name\", \"is_instrumental\")\n",
    "\n",
    "df_instrumental_info.write.format(\"delta\") \\\n",
    "    .mode(\"overwrite\") \\\n",
    "        .option(\"overwriteSchema\", \"true\") \\\n",
    "            .saveAsTable(\"spotify_etl.silver.instrumental_tracks_info\")"
   ]
  },
  {
   "cell_type": "code",
   "execution_count": 0,
   "metadata": {
    "application/vnd.databricks.v1+cell": {
     "cellMetadata": {
      "byteLimit": 2048000,
      "rowLimit": 10000
     },
     "inputWidgets": {},
     "nuid": "61a94162-c3cd-459b-8df4-a6fbd775c1f9",
     "showTitle": false,
     "tableResultSettingsMap": {},
     "title": ""
    }
   },
   "outputs": [],
   "source": [
    "# subtabela de musica animada\n",
    "\n",
    "df_energy_info = df_silver.filter(col(\"is_energy\") == True) \\\n",
    "    .select(\"id\", \"artist_names\", \"name\", \"is_energy\")\n",
    "\n",
    "df_energy_info.write.format(\"delta\") \\\n",
    "    .mode(\"overwrite\") \\\n",
    "        .option(\"overwriteSchema\", \"true\") \\\n",
    "            .saveAsTable(\"spotify_etl.silver.energy_tracks_info\")"
   ]
  },
  {
   "cell_type": "code",
   "execution_count": 0,
   "metadata": {
    "application/vnd.databricks.v1+cell": {
     "cellMetadata": {
      "byteLimit": 2048000,
      "rowLimit": 10000
     },
     "inputWidgets": {},
     "nuid": "94e39232-6ab8-4287-ae23-b242c9db171a",
     "showTitle": false,
     "tableResultSettingsMap": {},
     "title": ""
    }
   },
   "outputs": [],
   "source": [
    "# subtabela que mostra os sentimentos das musicas - alegre, triste, neutra\n",
    "\n",
    "df_sentiment_info = df_silver \\\n",
    "    .select(\"id\", \"artist_names\", \"name\", \"sentimento\")\n",
    "\n",
    "df_sentiment_info.write.format(\"delta\") \\\n",
    "    .mode(\"overwrite\") \\\n",
    "        .option(\"overwriteSchema\", \"true\") \\\n",
    "            .saveAsTable(\"spotify_etl.silver.sentimento_tracks_info\")"
   ]
  },
  {
   "cell_type": "code",
   "execution_count": 0,
   "metadata": {
    "application/vnd.databricks.v1+cell": {
     "cellMetadata": {
      "byteLimit": 2048000,
      "rowLimit": 10000
     },
     "inputWidgets": {},
     "nuid": "8f79c288-f9a6-413a-ac2e-2b6ab3fb5293",
     "showTitle": false,
     "tableResultSettingsMap": {},
     "title": ""
    }
   },
   "outputs": [
    {
     "output_type": "display_data",
     "data": {
      "text/html": [
       "<style scoped>\n",
       "  .table-result-container {\n",
       "    max-height: 300px;\n",
       "    overflow: auto;\n",
       "  }\n",
       "  table, th, td {\n",
       "    border: 1px solid black;\n",
       "    border-collapse: collapse;\n",
       "  }\n",
       "  th, td {\n",
       "    padding: 5px;\n",
       "  }\n",
       "  th {\n",
       "    text-align: left;\n",
       "  }\n",
       "</style><div class='table-result-container'><table class='table-result'><thead style='background-color: white'><tr><th>id</th><th>artist_names</th><th>name</th><th>key_note</th></tr></thead><tbody><tr><td>spotify:track:2eSnW4d3A4SyEVhVPmBffa</td><td>Anitta, Becky G</td><td>Banana</td><td>B</td></tr><tr><td>spotify:track:2OUffBn30YvuPbZ0SmBgNs</td><td>LUDMILLA</td><td>Jogando sujo</td><td>A</td></tr><tr><td>spotify:track:4BLyDt62gonjl7b2k41d6Y</td><td>Zé Neto & Cristiano</td><td>Bebida Na Ferida - Acústico</td><td>C#</td></tr><tr><td>spotify:track:301UKq8uNAv7Zj7MQkQWyd</td><td>MC Rick, Mc Leozin, Dj Caio Vieira</td><td>Terminei Com A Ex</td><td>F</td></tr><tr><td>spotify:track:1ELsaYdj2NlxLvkx9g24xZ</td><td>Guilherme & Benuto, Hugo & Guilherme</td><td>Haja Colírio (feat. Hugo & Guilherme) - Ao Vivo</td><td>B</td></tr></tbody></table></div>"
      ]
     },
     "metadata": {
      "application/vnd.databricks.v1+output": {
       "addedWidgets": {},
       "aggData": [],
       "aggError": "",
       "aggOverflow": false,
       "aggSchema": [],
       "aggSeriesLimitReached": false,
       "aggType": "",
       "arguments": {},
       "columnCustomDisplayInfos": {},
       "data": [
        [
         "spotify:track:2eSnW4d3A4SyEVhVPmBffa",
         "Anitta, Becky G",
         "Banana",
         "B"
        ],
        [
         "spotify:track:2OUffBn30YvuPbZ0SmBgNs",
         "LUDMILLA",
         "Jogando sujo",
         "A"
        ],
        [
         "spotify:track:4BLyDt62gonjl7b2k41d6Y",
         "Zé Neto & Cristiano",
         "Bebida Na Ferida - Acústico",
         "C#"
        ],
        [
         "spotify:track:301UKq8uNAv7Zj7MQkQWyd",
         "MC Rick, Mc Leozin, Dj Caio Vieira",
         "Terminei Com A Ex",
         "F"
        ],
        [
         "spotify:track:1ELsaYdj2NlxLvkx9g24xZ",
         "Guilherme & Benuto, Hugo & Guilherme",
         "Haja Colírio (feat. Hugo & Guilherme) - Ao Vivo",
         "B"
        ]
       ],
       "datasetInfos": [],
       "dbfsResultPath": null,
       "isJsonSchema": true,
       "metadata": {},
       "overflow": false,
       "plotOptions": {
        "customPlotOptions": {},
        "displayType": "table",
        "pivotAggregation": null,
        "pivotColumns": null,
        "xColumns": null,
        "yColumns": null
       },
       "removedWidgets": [],
       "schema": [
        {
         "metadata": "{}",
         "name": "id",
         "type": "\"string\""
        },
        {
         "metadata": "{}",
         "name": "artist_names",
         "type": "\"string\""
        },
        {
         "metadata": "{}",
         "name": "name",
         "type": "\"string\""
        },
        {
         "metadata": "{}",
         "name": "key_note",
         "type": "\"string\""
        }
       ],
       "type": "table"
      }
     },
     "output_type": "display_data"
    }
   ],
   "source": [
    "# subtabela que mostra a tonalidade de cada musica\n",
    "\n",
    "df_keymode_info = df_silver \\\n",
    "    .select(\"id\", \"artist_names\", \"name\", \"key_note\")\n",
    "\n",
    "df_keymode_info.write.format(\"delta\") \\\n",
    "    .mode(\"overwrite\") \\\n",
    "        .option(\"overwriteSchema\", \"true\") \\\n",
    "            .saveAsTable(\"spotify_etl.silver.keymode_tracks_info\")\n",
    "\n",
    "df_keymode_info.limit(5).display()"
   ]
  }
 ],
 "metadata": {
  "application/vnd.databricks.v1+notebook": {
   "computePreferences": null,
   "dashboards": [],
   "environmentMetadata": {
    "base_environment": "",
    "environment_version": "3"
   },
   "inputWidgetPreferences": null,
   "language": "python",
   "notebookMetadata": {
    "mostRecentlyExecutedCommandWithImplicitDF": {
     "commandId": 6212519733513438,
     "dataframes": [
      "_sqldf"
     ]
    },
    "pythonIndentUnit": 4
   },
   "notebookName": "silver_spotify_etl",
   "widgets": {}
  },
  "language_info": {
   "name": "python"
  }
 },
 "nbformat": 4,
 "nbformat_minor": 0
}